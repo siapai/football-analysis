{
 "cells": [
  {
   "cell_type": "code",
   "execution_count": 5,
   "id": "initial_id",
   "metadata": {
    "collapsed": true,
    "ExecuteTime": {
     "end_time": "2024-05-07T13:22:51.261750Z",
     "start_time": "2024-05-07T13:22:51.256412Z"
    }
   },
   "outputs": [],
   "source": [
    "# Try to get ultralytics, install it if it doesn't work\n",
    "try:\n",
    "    from ultralytics import YOLO\n",
    "except ImportError:\n",
    "    print(\"[INFO] Couldn't find ultralytics... installing it.\")\n",
    "    !pip install -q ultralytics\n",
    "    from ultralytics import YOLO"
   ]
  },
  {
   "cell_type": "code",
   "outputs": [
    {
     "name": "stdout",
     "output_type": "stream",
     "text": [
      "loading Roboflow workspace...\n",
      "loading Roboflow project...\n"
     ]
    }
   ],
   "source": [
    "# Try to get roboflow, install it if it doesn't work\n",
    "try:\n",
    "    from roboflow import Roboflow\n",
    "except ImportError:\n",
    "    print(\"[INFO] Couldn't find roboflow... installing it.\")\n",
    "    !pip install -q roboflow\n",
    "    from roboflow import Roboflow\n",
    "    \n",
    "rf = Roboflow(api_key=\"1n87ZC3ti1V8D3tTHXW5\")\n",
    "project = rf.workspace(\"roboflow-jvuqo\").project(\"football-players-detection-3zvbc\")\n",
    "version = project.version(1)\n",
    "dataset = version.download(\"yolov5\")"
   ],
   "metadata": {
    "collapsed": false,
    "ExecuteTime": {
     "end_time": "2024-05-07T13:22:54.417728Z",
     "start_time": "2024-05-07T13:22:52.160763Z"
    }
   },
   "id": "69d554ff349bf755",
   "execution_count": 6
  },
  {
   "cell_type": "markdown",
   "source": [
    "## Get Dataset\n"
   ],
   "metadata": {
    "collapsed": false
   },
   "id": "152aa1ca87bf4729"
  },
  {
   "cell_type": "code",
   "outputs": [
    {
     "data": {
      "text/plain": "'football-players-detection-1/football-players-detection-1/valid'"
     },
     "execution_count": 9,
     "metadata": {},
     "output_type": "execute_result"
    }
   ],
   "source": [
    "import shutil\n",
    "\n",
    "shutil.move('football-players-detection-1/train',\n",
    "            'football-players-detection-1/football-players-detection-1/train')\n",
    "\n",
    "shutil.move('football-players-detection-1/test',\n",
    "            'football-players-detection-1/football-players-detection-1/test')\n",
    "\n",
    "shutil.move('football-players-detection-1/valid',\n",
    "            'football-players-detection-1/football-players-detection-1/valid')"
   ],
   "metadata": {
    "collapsed": false,
    "ExecuteTime": {
     "end_time": "2024-05-07T13:27:41.269799Z",
     "start_time": "2024-05-07T13:27:37.469261Z"
    }
   },
   "id": "48024ce7e6ec3bef",
   "execution_count": 9
  },
  {
   "cell_type": "markdown",
   "source": [
    "## Training"
   ],
   "metadata": {
    "collapsed": false
   },
   "id": "e1a10bf42b481a49"
  },
  {
   "cell_type": "code",
   "outputs": [],
   "source": [
    "!yolo task=detect model=yolov5x.pt data={dataset.location}/data.yaml epochs=100 imgsz=640"
   ],
   "metadata": {
    "collapsed": false
   },
   "id": "746841650efd5daf"
  },
  {
   "cell_type": "code",
   "outputs": [],
   "source": [
    "model.train()"
   ],
   "metadata": {
    "collapsed": false
   },
   "id": "d4e2a910861a4d51"
  }
 ],
 "metadata": {
  "kernelspec": {
   "display_name": "Python 3",
   "language": "python",
   "name": "python3"
  },
  "language_info": {
   "codemirror_mode": {
    "name": "ipython",
    "version": 2
   },
   "file_extension": ".py",
   "mimetype": "text/x-python",
   "name": "python",
   "nbconvert_exporter": "python",
   "pygments_lexer": "ipython2",
   "version": "2.7.6"
  }
 },
 "nbformat": 4,
 "nbformat_minor": 5
}
